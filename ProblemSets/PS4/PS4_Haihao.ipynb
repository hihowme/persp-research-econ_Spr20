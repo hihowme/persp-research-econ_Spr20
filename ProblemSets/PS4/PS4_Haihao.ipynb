{
 "cells": [
  {
   "cell_type": "markdown",
   "metadata": {},
   "source": [
    "# Problem Set #4"
   ]
  },
  {
   "cell_type": "markdown",
   "metadata": {},
   "source": [
    "MACS 30000, Dr. Evans"
   ]
  },
  {
   "cell_type": "markdown",
   "metadata": {},
   "source": [
    "Haihao Guo"
   ]
  },
  {
   "cell_type": "markdown",
   "metadata": {},
   "source": [
    "## Exercise 1"
   ]
  },
  {
   "cell_type": "code",
   "execution_count": 1,
   "metadata": {},
   "outputs": [
    {
     "ename": "ModuleNotFoundError",
     "evalue": "No module named 'scipy'",
     "traceback": [
      "\u001b[0;31m---------------------------------------------------------------------------\u001b[0m",
      "\u001b[0;31mModuleNotFoundError\u001b[0m                       Traceback (most recent call last)",
      "\u001b[0;32m<ipython-input-1-51ffcb752fc4>\u001b[0m in \u001b[0;36m<module>\u001b[0;34m()\u001b[0m\n\u001b[1;32m      2\u001b[0m \u001b[0;34m\u001b[0m\u001b[0m\n\u001b[1;32m      3\u001b[0m \u001b[0;32mimport\u001b[0m \u001b[0mnumpy\u001b[0m \u001b[0;32mas\u001b[0m \u001b[0mnp\u001b[0m\u001b[0;34m\u001b[0m\u001b[0;34m\u001b[0m\u001b[0m\n\u001b[0;32m----> 4\u001b[0;31m \u001b[0;32mimport\u001b[0m \u001b[0mscipy\u001b[0m\u001b[0;34m.\u001b[0m\u001b[0moptimize\u001b[0m \u001b[0;32mas\u001b[0m \u001b[0mopt\u001b[0m\u001b[0;34m\u001b[0m\u001b[0;34m\u001b[0m\u001b[0m\n\u001b[0m\u001b[1;32m      5\u001b[0m \u001b[0;32mimport\u001b[0m \u001b[0mmatplotlib\u001b[0m\u001b[0;34m.\u001b[0m\u001b[0mpyplot\u001b[0m \u001b[0;32mas\u001b[0m \u001b[0mplt\u001b[0m\u001b[0;34m\u001b[0m\u001b[0;34m\u001b[0m\u001b[0m\n\u001b[1;32m      6\u001b[0m \u001b[0;32mimport\u001b[0m \u001b[0mscipy\u001b[0m\u001b[0;34m.\u001b[0m\u001b[0mlinalg\u001b[0m \u001b[0;32mas\u001b[0m \u001b[0mla\u001b[0m\u001b[0;34m\u001b[0m\u001b[0;34m\u001b[0m\u001b[0m\n",
      "\u001b[0;31mModuleNotFoundError\u001b[0m: No module named 'scipy'"
     ],
     "output_type": "error"
    }
   ],
   "source": [
    "import time\n",
    "\n",
    "import numpy as np\n",
    "import scipy.optimize as opt\n",
    "import matplotlib.pyplot as plt\n",
    "import scipy.linalg as la\n",
    "\n",
    "import warnings\n",
    "warnings.filterwarnings(\"ignore\")\n",
    "\n",
    "beta = 0.96**20 \n",
    "delta = 1 - (1 - 0.05)**20 \n",
    "sigma = 3\n",
    "A = 1\n",
    "alpha = 0.35\n",
    "\n",
    "nvec = np.array([1.0, 1.0, .2])\n",
    "f_params = [nvec, A, alpha, delta]\n",
    "\n",
    "def get_Y(K, L, alpha, A):\n",
    "    return A * (K ** alpha) * (L ** (1-alpha))\n",
    "\n",
    "def get_r(K, L, alpha, A, delta):\n",
    "    r = (alpha * A * ((L / K) ** (1 - alpha))) - delta\n",
    "    return r\n",
    "\n",
    "def get_w(K, L, alpha, A): \n",
    "    w = (1 - alpha) * A * ((K / L) ** alpha) \n",
    "    return w\n",
    "\n",
    "def get_K(b2, b3):\n",
    "    return b2 + b3\n",
    "\n",
    "def get_cons(b, b1, n, r, w):\n",
    "    return w * n + (1 + r) * b - b1\n",
    "\n",
    "def get_util(c, sigma):\n",
    "    return (c ** (1-sigma))/(1-sigma)\n",
    "\n",
    "def get_MU(c, sigma):\n",
    "    return c ** (-sigma)\n",
    "\n",
    "def feasible(f_params, bvec_guess):\n",
    "    nvec, A, alpha, delta = f_params\n",
    "    b2, b3 = bvec_guess\n",
    "    K = get_K(b2, b3)\n",
    "    L = nvec.sum()\n",
    "    r = get_r(K, L, alpha, A, delta)\n",
    "    w = get_w(K, L, alpha, A)\n",
    "    c1 = get_cons(0, b2, nvec[0], r, w)\n",
    "    c2 = get_cons(b2, b3, nvec[1], r, w)\n",
    "    c3 = get_cons(b3, 0, nvec[2], r, w)\n",
    "    \n",
    "    K_cnstr, c_cnstr, b_cnstr = np.full(1, False), np.full(3, False), np.full(2, False)\n",
    "    \n",
    "    c_cnstr[0] = c1 < 0 \n",
    "    c_cnstr[1] = c2 < 0\n",
    "    c_cnstr[2] = c3 < 0\n",
    "    K_cnstr[0] = K < 0\n",
    "    \n",
    "    if c_cnstr[0] == True:\n",
    "        b_cnstr[0] = True\n",
    "    if c_cnstr[1] == True:\n",
    "        b_cnstr[0], b_cnstr[1] = True, True\n",
    "    if c_cnstr[2] == True:\n",
    "        b_cnstr[1] = True\n",
    "        \n",
    "    return b_cnstr, c_cnstr, K_cnstr"
   ]
  },
  {
   "cell_type": "markdown",
   "metadata": {},
   "source": [
    "### A"
   ]
  },
  {
   "cell_type": "code",
   "execution_count": 4,
   "metadata": {},
   "outputs": [
    {
     "name": "stdout",
     "output_type": "stream",
     "text": [
      "[ True False] [ True False False] [False]\n"
     ]
    }
   ],
   "source": [
    "bvec_guess = np.array([1.0, 1.2])\n",
    "b_cnstr, c_cnstr, K_cnstr = feasible(f_params, bvec_guess)\n",
    "print(b_cnstr, c_cnstr, K_cnstr)"
   ]
  },
  {
   "cell_type": "markdown",
   "metadata": {},
   "source": [
    "Consumption nonnegativity constraint in period 1 is violated."
   ]
  },
  {
   "cell_type": "markdown",
   "metadata": {},
   "source": [
    "### B"
   ]
  },
  {
   "cell_type": "code",
   "execution_count": 5,
   "metadata": {},
   "outputs": [
    {
     "name": "stdout",
     "output_type": "stream",
     "text": [
      "[False False] [False False False] [False]\n"
     ]
    }
   ],
   "source": [
    "bvec_guess = np.array([0.1, 0.1])\n",
    "b_cnstr, c_cnstr, K_cnstr = feasible(f_params, bvec_guess)\n",
    "print(b_cnstr, c_cnstr, K_cnstr)"
   ]
  },
  {
   "cell_type": "markdown",
   "metadata": {},
   "source": [
    "No constraints is violated."
   ]
  },
  {
   "cell_type": "code",
   "execution_count": 15,
   "metadata": {},
   "outputs": [
    {
     "name": "stdout",
     "output_type": "stream",
     "text": [
      "[False False] [False False False] [False]\n"
     ]
    }
   ],
   "source": [
    "bvec_guess = np.array([0.1, 0.1])\n",
    "b_cnstr, c_cnstr, K_cnstr = feasible(f_params, bvec_guess)\n",
    "print(b_cnstr, c_cnstr, K_cnstr)"
   ]
  },
  {
   "cell_type": "markdown",
   "metadata": {},
   "source": [
    "No constraints are violated."
   ]
  },
  {
   "cell_type": "markdown",
   "metadata": {},
   "source": [
    "## Exercise 2"
   ]
  },
  {
   "cell_type": "code",
   "execution_count": 6,
   "metadata": {},
   "outputs": [],
   "source": [
    "def EulEqs(bvec, args):\n",
    "    \n",
    "    nvec, A, alpha, delta, beta, sigma = args\n",
    "    b2, b3 = bvec\n",
    "    \n",
    "    L = nvec.sum()\n",
    "    K = get_K(b2, b3)\n",
    "    r = get_r(K, L, alpha, A, delta)\n",
    "    w = get_w(K, L, alpha, A)\n",
    "    c1 = get_cons(0, b2, nvec[0], r, w)\n",
    "    c2 = get_cons(b2, b3, nvec[1], r, w)\n",
    "    c3 = get_cons(b3, 0, nvec[2], r, w)\n",
    "    mu1 = get_MU(c1,sigma)\n",
    "    mu2 = get_MU(c2,sigma)\n",
    "    mu3 = get_MU(c3,sigma)\n",
    "    \n",
    "    Eul1 = mu1 - beta*(1+r) * mu2\n",
    "    Eul2 = mu2 - beta*(1+r) * mu3\n",
    "    Euler_eqs = np.array([Eul1, Eul2])\n",
    "    \n",
    "    return Euler_eqs\n",
    "\n",
    "def get_SS(params, bvec_guess, SS_graphs = False):\n",
    "    \n",
    "    start_time = time.clock()\n",
    "    \n",
    "    beta, sigma, nvec, L, A, alpha, delta, SS_tol = params\n",
    "    args = np.array([nvec, A, alpha, delta, beta, sigma])\n",
    "    b_ss = opt.root(EulEqs, bvec_guess, tol=SS_tol, args = args).x\n",
    "    \n",
    "    b2, b3 = b_ss\n",
    "    K_ss = get_K(b2, b3)\n",
    "    r_ss = get_r(K_ss, L, alpha, A, delta)\n",
    "    Y_ss = get_Y(K_ss, L, alpha, A)\n",
    "    w_ss = get_w(K_ss, L, alpha, A)\n",
    "    c1 = get_cons(0, b2, nvec[0], r_ss, w_ss)\n",
    "    c2 = get_cons(b2, b3, nvec[1], r_ss, w_ss)\n",
    "    c3 = get_cons(b3, 0, nvec[2], r_ss, w_ss)\n",
    "    c_ss = np.array([c1, c2, c3])\n",
    "    C_ss = c_ss.sum()\n",
    "    EulErr_ss = EulEqs(b_ss, args)\n",
    "    RCerr_ss = Y_ss - C_ss - delta * K_ss\n",
    "    \n",
    "    ss_time = time.clock() - start_time\n",
    "    \n",
    "    ss_output = {\n",
    "    'b_ss': b_ss, 'c_ss': c_ss, 'w_ss': w_ss, 'r_ss': r_ss,\n",
    "    'K_ss': K_ss, 'Y_ss': Y_ss, 'C_ss': C_ss,\n",
    "    'EulErr_ss': EulErr_ss, 'RCerr_ss': RCerr_ss,\n",
    "    'ss_time': ss_time}\n",
    "    \n",
    "    if SS_graphs:\n",
    "        x = np.arange(3)\n",
    "        plt.bar(x, c_ss)\n",
    "        plt.xticks(x, ('C1', 'C2', 'C3'))\n",
    "        plt.title('Steady-state distribution of consumption')\n",
    "        plt.show()\n",
    "        y = np.arange(2)\n",
    "        plt.bar(y, b_ss)\n",
    "        plt.xticks(y, ('b2', 'b3'))\n",
    "        plt.title('Steady-state distribution of savings')\n",
    "        plt.show()\n",
    "    return ss_output"
   ]
  },
  {
   "cell_type": "markdown",
   "metadata": {},
   "source": [
    "### A"
   ]
  },
  {
   "cell_type": "code",
   "execution_count": 8,
   "metadata": {},
   "outputs": [
    {
     "data": {
      "text/plain": [
       "{'b_ss': array([0.01931274, 0.05841159]),\n",
       " 'c_ss': array([0.18241256, 0.20961491, 0.24087382]),\n",
       " 'w_ss': 0.2017252935955733,\n",
       " 'r_ss': 2.4330302535646116,\n",
       " 'K_ss': 0.07772432611811347,\n",
       " 'Y_ss': 0.6827625321696328,\n",
       " 'C_ss': 0.6329012827935535,\n",
       " 'EulErr_ss': array([-1.33582034e-12,  2.67164069e-12]),\n",
       " 'RCerr_ss': 3.469446951953614e-17,\n",
       " 'ss_time': 0.0006539999999999324}"
      ]
     },
     "execution_count": 8,
     "metadata": {},
     "output_type": "execute_result"
    }
   ],
   "source": [
    "SS_tol = 1e-10\n",
    "params = [beta, sigma, nvec, nvec.sum(), A, alpha, delta, SS_tol]\n",
    "bvec_guess = np.array([0.1, 0.1])\n",
    "get_SS(params, bvec_guess)"
   ]
  },
  {
   "cell_type": "markdown",
   "metadata": {},
   "source": [
    "It took 0.00065 seconds to compute the steady state."
   ]
  },
  {
   "cell_type": "markdown",
   "metadata": {},
   "source": [
    "### B"
   ]
  },
  {
   "cell_type": "code",
   "execution_count": 9,
   "metadata": {},
   "outputs": [
    {
     "data": {
      "image/png": "[encoded data removed]",
      "text/plain": [
       "<Figure size 432x288 with 1 Axes>"
      ]
     },
     "metadata": {
      "needs_background": "light"
     },
     "output_type": "display_data"
    },
    {
     "data": {
      "image/png": "[encoded data removed]",
      "text/plain": [
       "<Figure size 432x288 with 1 Axes>"
      ]
     },
     "metadata": {
      "needs_background": "light"
     },
     "output_type": "display_data"
    },
    {
     "data": {
      "text/plain": [
       "{'b_ss': array([0.01931274, 0.05841159]),\n",
       " 'c_ss': array([0.18241256, 0.20961491, 0.24087382]),\n",
       " 'w_ss': 0.2017252935955733,\n",
       " 'r_ss': 2.4330302535646116,\n",
       " 'K_ss': 0.07772432611811347,\n",
       " 'Y_ss': 0.6827625321696328,\n",
       " 'C_ss': 0.6329012827935535,\n",
       " 'EulErr_ss': array([-1.33582034e-12,  2.67164069e-12]),\n",
       " 'RCerr_ss': 3.469446951953614e-17,\n",
       " 'ss_time': 0.0007669999999999622}"
      ]
     },
     "execution_count": 9,
     "metadata": {},
     "output_type": "execute_result"
    }
   ],
   "source": [
    "get_SS(params, bvec_guess,SS_graphs = True)"
   ]
  },
  {
   "cell_type": "markdown",
   "metadata": {},
   "source": [
    "### C"
   ]
  },
  {
   "cell_type": "code",
   "execution_count": 10,
   "metadata": {},
   "outputs": [
    {
     "data": {
      "text/plain": [
       "{'b_ss': array([0.02817696, 0.07686557]),\n",
       " 'c_ss': array([0.19597535, 0.22861559, 0.26669216]),\n",
       " 'w_ss': 0.22415231191003315,\n",
       " 'r_ss': 1.8863599991452351,\n",
       " 'K_ss': 0.10504252550764615,\n",
       " 'Y_ss': 0.7586693633878046,\n",
       " 'C_ss': 0.6912831045288896,\n",
       " 'EulErr_ss': array([-2.84217094e-14, -2.84217094e-14]),\n",
       " 'RCerr_ss': 9.71445146547012e-17,\n",
       " 'ss_time': 0.0004799999999998139}"
      ]
     },
     "execution_count": 10,
     "metadata": {},
     "output_type": "execute_result"
    }
   ],
   "source": [
    "params2 = [0.55, sigma, nvec, nvec.sum(), A, alpha, delta, SS_tol]\n",
    "get_SS(params2, bvec_guess)"
   ]
  },
  {
   "cell_type": "markdown",
   "metadata": {},
   "source": [
    "When $\\beta$ becomes larger, the steady-state level of wage, saving and consumption in each period are higher and the interest rate is lower. Intuitively, high $\\beta$ means the consumers put more emphasis on the later periods. Thus, people would save more to optimize their lifetime utility. When the saving is higher, there is more capital, interest rate becomes lower. Thus, marginal productivity of labor is higher and wage is larger. The overall income level of consumers is higher, and in this case, the income effect is larger than substitution effect. Consumption in each period increase."
   ]
  },
  {
   "cell_type": "markdown",
   "metadata": {},
   "source": [
    "## Exercise 3"
   ]
  },
  {
   "cell_type": "code",
   "execution_count": 11,
   "metadata": {},
   "outputs": [],
   "source": [
    "L = sum(nvec)\n",
    "T = 20\n",
    "tol = 1e-9\n",
    "xi = 0.2\n",
    "eul_tol = 1e-6  \n",
    "max_iter = 10000\n",
    "params3 = [beta, sigma, nvec, L, A, alpha, delta, eul_tol]\n",
    "\n",
    "b_ss = get_SS(params, bvec_guess)['b_ss']\n",
    "b2bar,b3bar = b_ss[0],b_ss[1]\n",
    "b_ss = np.array([b2bar, b3bar])\n",
    "\n",
    "b21 = 0.8 * b2bar\n",
    "b31 = 1.1 * b3bar\n",
    "bvec_guess = np.array([b21, b31])\n",
    "\n",
    "K1 = b21 + b31\n",
    "Kbar = b2bar + b3bar\n",
    "Kpath = np.linspace(K1, Kbar, T)\n",
    "Kpath = np.append(Kpath, Kbar)\n",
    "\n",
    "def get_path(T, Kpath, Kbar, params):\n",
    "    \n",
    "    rpath = np.zeros(T)\n",
    "    wpath = np.zeros(T)\n",
    "    for t in range(T):\n",
    "        rpath[t] = get_r(Kpath[t], L, alpha, A, delta)\n",
    "        wpath[t] = get_w(Kpath[t], L, alpha, A)\n",
    "    rbar = get_r(Kbar, L, alpha, A, delta)\n",
    "    wbar = get_w(Kbar, L, alpha, A)\n",
    "    rpath = np.append(rpath, rbar)\n",
    "    wpath = np.append(wpath, wbar)\n",
    "    \n",
    "    return np.array([rpath, wpath])\n",
    "\n",
    "def EulEqs2(b32, b32_params):\n",
    "    \n",
    "    b21,b22,rpath,wpath,params = b32_params[0],b32_params[1],b32_params[2],b32_params[3],b32_params[4]\n",
    "    c1 = get_cons(b21, b32, params[2][1], rpath[0], wpath[0])\n",
    "    u1 = get_MU(c1, sigma)\n",
    "    c2 = get_cons(b32, 0, params[2][2], rpath[1], wpath[1])\n",
    "    u2 = get_MU(c2, sigma)\n",
    "    \n",
    "    return u1 - params[0] * (1 + rpath[1]) * u2\n",
    "\n",
    "\n",
    "def get_b32(b21, b22, rpath, wpath, params, bvec_guess):\n",
    "    \n",
    "    b32_params = [b21, b22, rpath, wpath, params]\n",
    "    result = opt.root(EulEqs2,bvec_guess[0],args = b32_params, tol = params[7])\n",
    "    b32 = result.x\n",
    "    b32_EulErrs = result.fun\n",
    "    \n",
    "    return np.array([b32, b32_EulErrs])\n",
    "\n",
    "def get_cons(b, b1, n, r, w):\n",
    "    return w * n + (1 + r) * b - b1\n",
    "\n",
    "def get_b_EulErr(b, b_params):\n",
    "    \n",
    "    t, rpath, wpath, params = b_params[0],b_params[1],b_params[2],b_params[3]\n",
    "    \n",
    "    c21 = get_cons(0,  b[0], params[2][0], 0, wpath[t])\n",
    "    u21 = get_MU(c21, sigma)\n",
    "    c22 = get_cons(b[0], b[1], params[2][1], rpath[t+1], wpath[t+1])\n",
    "    u22 = get_MU(c22, sigma)\n",
    "    b2_EulErr = u21 - params[0] * (1 + rpath[t+1]) * u22\n",
    "    \n",
    "    c31 = get_cons(b[0], b[1], params[2][1], rpath[t+1], wpath[t+1])\n",
    "    u31 = get_MU(c31, sigma)\n",
    "    c32 = get_cons(b[1], 0, params[2][2], rpath[t+2], wpath[t+2])\n",
    "    u32 = get_MU(c32, sigma)\n",
    "    b3_EulErrs = u31 - params[0] * (1 + rpath[t+2]) * u32\n",
    "    \n",
    "    return np.array([b2_EulErr, b3_EulErrs])\n",
    "\n",
    "\n",
    "def get_b(t, rpath, wpath, params, bvec_guess):\n",
    "    \n",
    "    b_params = [t, rpath, wpath, params]\n",
    "    result = opt.root(get_b_EulErr, bvec_guess, args = b_params, tol = params[7])\n",
    "    b = result.x\n",
    "    b_EulErrs = result.fun\n",
    "    \n",
    "    return np.array([b, b_EulErrs])\n",
    "\n",
    "def get_errs(Kpath, rpath, wpath, bmat, params):\n",
    "    \n",
    "    L = params[2].sum()\n",
    "    C = L * wpath[:-1] + (1 + rpath[:-1]) * bmat[:-1,0] - bmat[1:,0] + (1 + rpath[:-1]) * bmat[:-1,1] - bmat[1:,1]\n",
    "    Y = params[4] * (Kpath[:-1]**params[5]) * L**(1 - params[5])\n",
    "    agg_err = Y - C - Kpath[1:] + (1 - params[6]) * Kpath[:-1]\n",
    "    max_agg_err = np.abs(agg_err).max()\n",
    "    \n",
    "    return max_agg_err\n",
    "\n",
    "def get_result(T, rpath, wpath, Kpath, bvec_guess, b_ss, params):\n",
    "    \n",
    "    bmat = np.zeros((T+1, 2))\n",
    "    bmat[0,:] = bvec_guess\n",
    "    EulErrs = np.zeros((T+1, 2))\n",
    "    cols = [0,1]\n",
    "    for t in range(T-1):\n",
    "        rows = [t+1, t+2]\n",
    "        bmat[rows, cols], EulErrs[rows, cols] = get_b(t, rpath, wpath,params,bvec_guess)\n",
    "    bmat[1,1], EulErrs[1,1] = get_b32(bmat[0,0], bmat[0,1], rpath, wpath, params, bvec_guess)\n",
    "    max_EulErrs = np.abs(EulErrs).max(axis = 0)\n",
    "    agg_errs = get_errs(Kpath, rpath, wpath, bmat, params)\n",
    "    \n",
    "    return bmat, max_EulErrs, agg_errs\n",
    "\n",
    "def Kprime(bmat, Kbar):\n",
    "    \n",
    "    Kp_path = bmat[:-1,:].sum(axis = 1)\n",
    "    Kp_path = np.append(Kp_path, Kbar)\n",
    "    \n",
    "    return Kp_path\n",
    "\n",
    "def TPI(T, Kpath, Kbar, bvec_guess, b_ss, params, tol, max_iter):\n",
    "    \n",
    "    dist = 1e9\n",
    "    i = 0\n",
    "    \n",
    "    while (dist > tol) & (i < max_iter):\n",
    "        i += 1\n",
    "        rpath, wpath = get_path(T, Kpath, Kbar, params)\n",
    "        bmat, max_EulErrs, max_agg_errs = get_result(T, rpath, wpath, Kpath, bvec_guess, b_ss, params)\n",
    "        Kp_path = Kprime(bmat, Kbar)\n",
    "        dist = la.norm(Kp_path - Kpath, 2)\n",
    "        Kpath = xi * Kp_path + (1 - xi) * Kpath\n",
    "    \n",
    "    print('Max absolute Euler errors: ', (max_EulErrs[0],max_EulErrs[1]))\n",
    "    print('Max absolute aggregate resources constraint error:', max_agg_errs)\n",
    "    \n",
    "    return Kpath, rpath, wpath"
   ]
  },
  {
   "cell_type": "markdown",
   "metadata": {},
   "source": [
    "### A"
   ]
  },
  {
   "cell_type": "code",
   "execution_count": 12,
   "metadata": {},
   "outputs": [
    {
     "name": "stdout",
     "output_type": "stream",
     "text": [
      "Max absolute Euler errors:  (3.2134150274032436e-07, 9.464268657666253e-08)\n",
      "Max absolute aggregate resources constraint error: 0.019312759519526906\n"
     ]
    }
   ],
   "source": [
    "K, r, w = TPI(T, Kpath, Kbar, bvec_guess, b_ss, params3, tol, max_iter)"
   ]
  },
  {
   "cell_type": "markdown",
   "metadata": {},
   "source": [
    "### B"
   ]
  },
  {
   "cell_type": "code",
   "execution_count": 13,
   "metadata": {},
   "outputs": [
    {
     "data": {
      "image/png": "[encoded data removed]",
      "text/plain": [
       "<Figure size 432x288 with 1 Axes>"
      ]
     },
     "metadata": {
      "needs_background": "light"
     },
     "output_type": "display_data"
    },
    {
     "data": {
      "image/png": "[encoded data removed]",
      "text/plain": [
       "<Figure size 432x288 with 1 Axes>"
      ]
     },
     "metadata": {
      "needs_background": "light"
     },
     "output_type": "display_data"
    },
    {
     "data": {
      "image/png": "[encoded data removed]",
      "text/plain": [
       "<Figure size 432x288 with 1 Axes>"
      ]
     },
     "metadata": {
      "needs_background": "light"
     },
     "output_type": "display_data"
    }
   ],
   "source": [
    "plt.plot(K)\n",
    "plt.title('Equilibrium time path of aggregate capital')\n",
    "plt.xlabel('T')\n",
    "plt.ylabel('K')\n",
    "plt.show()\n",
    "\n",
    "plt.plot(r)\n",
    "plt.title('Equilibrium time path of interest rate')\n",
    "plt.xlabel('T')\n",
    "plt.ylabel('r')\n",
    "plt.show()\n",
    "\n",
    "plt.plot(w)\n",
    "plt.title('Equilibrium time path of wage')\n",
    "plt.xlabel('T')\n",
    "plt.ylabel('w')\n",
    "plt.show()"
   ]
  },
  {
   "cell_type": "markdown",
   "metadata": {},
   "source": [
    "### C"
   ]
  },
  {
   "cell_type": "code",
   "execution_count": 14,
   "metadata": {},
   "outputs": [
    {
     "name": "stdout",
     "output_type": "stream",
     "text": [
      "Number of periods taken by the economy to get within 1e-5 of the steady state aggregate capital:  2\n",
      "Number of periods from which the economy stays within 1e-5 of the steady state aggregate capital:  10\n"
     ]
    }
   ],
   "source": [
    "K_dist = np.abs(K - Kbar)\n",
    "err = 1e-5\n",
    "loc = np.where(K_dist < err)[0]\n",
    "print('Number of periods taken by the economy to get within 1e-5 of the steady state aggregate capital: ', loc.min())\n",
    "loc2 = np.ediff1d(loc) == 1\n",
    "print('Number of periods from which the economy stays within 1e-5 of the steady state aggregate capital: ', loc[-len(loc2)])"
   ]
  },
  {
   "cell_type": "code",
   "execution_count": null,
   "metadata": {},
   "outputs": [],
   "source": []
  }
 ],
 "metadata": {
  "kernelspec": {
   "display_name": "Python 3",
   "language": "python",
   "name": "python3"
  },
  "language_info": {
   "codemirror_mode": {
    "name": "ipython",
    "version": 3
   },
   "file_extension": ".py",
   "mimetype": "text/x-python",
   "name": "python",
   "nbconvert_exporter": "python",
   "pygments_lexer": "ipython3",
   "version": "3.7.6"
  }
 },
 "nbformat": 4,
 "nbformat_minor": 4
}
