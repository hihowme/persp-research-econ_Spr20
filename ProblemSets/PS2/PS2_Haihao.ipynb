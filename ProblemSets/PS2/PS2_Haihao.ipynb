{
 "cells": [
  {
   "cell_type": "markdown",
   "metadata": {},
   "source": [
    "# Problem Set #2"
   ]
  },
  {
   "cell_type": "markdown",
   "metadata": {},
   "source": [
    "MACS 30000, Dr. Evans"
   ]
  },
  {
   "cell_type": "markdown",
   "metadata": {},
   "source": [
    "Haihao Guo"
   ]
  },
  {
   "cell_type": "markdown",
   "metadata": {},
   "source": [
    "## Exercise 1"
   ]
  },
  {
   "cell_type": "markdown",
   "metadata": {},
   "source": [
    "### A"
   ]
  },
  {
   "cell_type": "code",
   "execution_count": 1,
   "metadata": {},
   "outputs": [
    {
     "name": "stdout",
     "output_type": "stream",
     "text": [
      "The Elapsed time is 3.306393001 seconds\n",
      "The Average error rate is 0.10057971014492752\n"
     ]
    }
   ],
   "source": [
    "import timeit\n",
    "import warnings\n",
    "import numpy as np\n",
    "import pandas as pd\n",
    "from sklearn.model_selection import train_test_split\n",
    "from sklearn.linear_model import LogisticRegression\n",
    "warnings.filterwarnings(\"ignore\")\n",
    "\n",
    "df1 = pd.read_csv('data/Auto.csv',na_values=\"?\")\n",
    "df1.dropna(inplace=True)\n",
    "tf = df1['mpg']>=df1['mpg'].median()\n",
    "df1['mpg_high'] = np.where(tf,1,0)\n",
    "\n",
    "df1['orgn1'] = 0\n",
    "df1.orgn1[df1['origin']==1] = 1\n",
    "df1['orgn2'] = 0\n",
    "df1.orgn2[df1['origin']==2] = 1\n",
    "\n",
    "y = df1['mpg_high'].values\n",
    "X = df1[['cylinders', 'displacement', 'horsepower', 'weight','acceleration', 'year', 'orgn1', 'orgn2']].values\n",
    "start_time = timeit.default_timer()\n",
    "mse = []\n",
    "for i in range(100):\n",
    "    j = i+1\n",
    "    X_train, X_test, y_train, y_test = train_test_split(X,y, test_size = 0.35, random_state=j)\n",
    "    LR = LogisticRegression(solver='lbfgs', max_iter=2000, n_jobs=1)\n",
    "    LR.fit(X_train, y_train)\n",
    "    y_pred = LR.predict(X_test)\n",
    "    mse_i = ((y_test - y_pred) ** 2).mean()\n",
    "    mse.append(mse_i)\n",
    "avmse = np.array(mse).mean()\n",
    "\n",
    "elapsed_time = timeit.default_timer() - start_time\n",
    "print('The Elapsed time is', elapsed_time, 'seconds')\n",
    "\n",
    "print('The Average error rate is', avmse)"
   ]
  },
  {
   "cell_type": "markdown",
   "metadata": {},
   "source": [
    "### B"
   ]
  },
  {
   "cell_type": "code",
   "execution_count": 2,
   "metadata": {},
   "outputs": [
    {
     "name": "stdout",
     "output_type": "stream",
     "text": [
      "Number of available cores is 8\n"
     ]
    }
   ],
   "source": [
    "import multiprocessing\n",
    "num_cores = multiprocessing.cpu_count()\n",
    "print('Number of available cores is', num_cores)"
   ]
  },
  {
   "cell_type": "code",
   "execution_count": 3,
   "metadata": {},
   "outputs": [
    {
     "name": "stdout",
     "output_type": "stream",
     "text": [
      "Number of available cores is 8\n",
      "average error rate = 0.8986231884057971\n",
      "computation time = 1.8585689999999992 seconds\n"
     ]
    }
   ],
   "source": [
    "import multiprocessing\n",
    "from dask import compute, delayed\n",
    "import dask.multiprocessing\n",
    "import time\n",
    "from statistics import mean\n",
    "num_cores = multiprocessing.cpu_count()\n",
    "print('Number of available cores is', num_cores)\n",
    "\n",
    "def doublecheck(bootstrap, seed, Data):\n",
    "    X, y = Data\n",
    "    X_train, X_test, y_train, y_test = train_test_split(X,y, test_size = 0.35, random_state=seed+bootstrap)\n",
    "    LogReg = LogisticRegression()\n",
    "    LogReg.fit(X_train, y_train)\n",
    "    y_pred = LogReg.predict(X_test)\n",
    "    err_rate_now = (y_test == y_pred).mean()\n",
    "    return err_rate_now\n",
    "time_start2 = time.clock()\n",
    "err_rate_2 = []\n",
    "for i in range(100):\n",
    "    err_rate_2.append(delayed(doublecheck)(i,100,[X,y]))\n",
    "err_rate_2_avg = delayed(mean)(err_rate_2)\n",
    "err_rate_2_avg = compute(err_rate_2_avg, num_workers=num_cores)[0]\n",
    "time_end2 = time.clock()\n",
    "print('average error rate =', err_rate_2_avg)\n",
    "print('computation time =',time_end2-time_start2,'seconds')"
   ]
  },
  {
   "cell_type": "code",
   "execution_count": null,
   "metadata": {},
   "outputs": [],
   "source": []
  }
 ],
 "metadata": {
  "kernelspec": {
   "display_name": "Python 3",
   "language": "python",
   "name": "python3"
  },
  "language_info": {
   "codemirror_mode": {
    "name": "ipython",
    "version": 3
   },
   "file_extension": ".py",
   "mimetype": "text/x-python",
   "name": "python",
   "nbconvert_exporter": "python",
   "pygments_lexer": "ipython3",
   "version": "3.7.0"
  }
 },
 "nbformat": 4,
 "nbformat_minor": 2
}
